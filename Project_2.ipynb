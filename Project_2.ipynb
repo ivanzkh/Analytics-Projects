{
  "cells": [
    {
      "cell_type": "code",
      "execution_count": 1,
      "metadata": {
        "id": "OvY2bSHTkEPr"
      },
      "outputs": [],
      "source": [
        "#Sources: https://stackoverflow.com/questions/23668427/pandas-three-way-joining-multiple-dataframes-on-columns\n",
        "\n",
        "import requests\n",
        "from bs4 import BeautifulSoup\n",
        "import pandas as pd\n",
        "import time\n",
        "from collections import defaultdict\n",
        "import json\n",
        "from matplotlib import pyplot as plt\n",
        "import numpy as np\n",
        "\n",
        "from requests.packages.urllib3.exceptions import InsecureRequestWarning\n",
        "\n",
        "requests.packages.urllib3.disable_warnings(InsecureRequestWarning)\n",
        "\n",
        "\n",
        "#function to scrape the website and return as dictionary\n",
        "def scrape_morningstar(url): \n",
        "\n",
        "  #empty tables to add scraped data to:\n",
        "\n",
        "  stock_price = []\n",
        "\n",
        "  page = requests.get(url)\n",
        "\n",
        "  soup = BeautifulSoup(page.content, 'html.parser')\n",
        "\n",
        "  span_symbol = soup.find_all('span', class_ = 'mdc-data-point mdc-data-point--string')\n",
        "  span_price = soup.find_all('span', class_ = 'mdc-data-point mdc-data-point--number')\n",
        "\n",
        "  string_list = [] #empty list to append the data \n",
        "  for x in span_symbol:\n",
        "    string_list.append(x.get_text())\n",
        "\n",
        "  for x in span_price:\n",
        "    stock_price.append(x.get_text())\n",
        "\n",
        "\n",
        "  #splitting the list into two and keeping 50 values only\n",
        "  company_name = string_list[:100:2] \n",
        "  symbol = string_list[1:100:2] \n",
        "\n",
        "  stock_price = stock_price[:200:4]# slicing the list to only keep the needed elements\n",
        "\n",
        "  small_cap_dict = {'Symbol': symbol, 'Name': company_name, 'Price': stock_price}\n",
        "\n",
        "  return small_cap_dict\n",
        "\n",
        "url1 = 'https://www.morningstar.com/small-cap-value-stocks'\n",
        "\n",
        "d1 = scrape_morningstar(url1)\n"
      ]
    },
    {
      "cell_type": "code",
      "source": [
        "#function to scrape the website and return as dictionary\n",
        "def scrape_tradingview(url):\n",
        "\n",
        "  page = requests.get(url)\n",
        "\n",
        "  soup = BeautifulSoup(page.content, 'html.parser')\n",
        "\n",
        "  span_name = soup.find_all('span', class_ = 'tv-screener__description')\n",
        "  a_symbol = soup.find_all('a', class_ = 'tv-screener__symbol')\n",
        "  span_price = soup.findAll('td', {'class':['tv-data-table__cell', 'tv-screener-table__cell', 'tv-screener-table__cell--big', 'tv-screener-table__cell--with-marker']})\n",
        "\n",
        "  #empty lists to append data to\n",
        "  name = [] \n",
        "  symbol = []\n",
        "  price = []\n",
        "\n",
        "  for x in span_name:\n",
        "      name.append(x.get_text().strip())\n",
        "\n",
        "  for x in a_symbol:\n",
        "      symbol.append(x.get_text().strip())\n",
        "\n",
        "  for x in span_price:\n",
        "      price.append(x.get_text().strip())\n",
        "\n",
        "  symbol = symbol[20:70:2] #slicing list to keep only the 25 first values and removing unnecesary values\n",
        "  name = name[10:35] # slicing list to keep only the 25 first values\n",
        "  price = price[121:416:12]  # slicing list to keep only the 25 first values and removing unnecesary values\n",
        "\n",
        "  large_cap_dict1 = {'Symbol': symbol, 'Name': name, 'Price': price}\n",
        "\n",
        "  return large_cap_dict1\n",
        "\n",
        "url2 = 'https://www.tradingview.com/markets/stocks-usa/market-movers-large-cap/'\n",
        "\n",
        "\n",
        "d2 = scrape_tradingview(url2)\n"
      ],
      "metadata": {
        "id": "9mr0uvHKDUJK"
      },
      "execution_count": 3,
      "outputs": []
    },
    {
      "cell_type": "code",
      "source": [
        "#function to scrape the website and return as dictionary\n",
        "def scrape_companies_market_cap(url):\n",
        "\n",
        "  page = requests.get(url)\n",
        "\n",
        "  soup = BeautifulSoup(page.content, 'html.parser')\n",
        "\n",
        "  div_name = soup.find_all('div', class_ = 'company-name')\n",
        "  div_symbol = soup.find_all('div', class_ = 'company-code')\n",
        "  div_price = soup.find_all('td', {'class':['td-right', 'pt-2']})\n",
        "\n",
        "  #div_price = soup.find_all('div', class_ = 'price')\n",
        "\n",
        "  #empty lists to append data to\n",
        "  name = [] \n",
        "  symbol = []\n",
        "  price = []\n",
        "\n",
        "  for x in div_name:\n",
        "        name.append(x.get_text())\n",
        "\n",
        "  for x in div_symbol:\n",
        "        symbol.append(x.get_text())\n",
        "\n",
        "  for x in div_price:\n",
        "        price.append(x.get_text())\n",
        "\n",
        "\n",
        "  #sciling tables to get 25 values and removing unnecessary values\n",
        "  name = name[50:75]\n",
        "  symbol= symbol[50:75]\n",
        "  price = price[152:227:3] \n",
        "  price = [s.replace(\"$\", \"\") for s in price]\n",
        "\n",
        "  large_cap_dict2 = {'Symbol': symbol, 'Name': name, 'Price': price}\n",
        "  return large_cap_dict2\n",
        "\n",
        "url3 = 'https://companiesmarketcap.com/usa/largest-companies-in-the-usa-by-market-cap/'\n",
        "\n",
        "d3 = scrape_companies_market_cap(url3)"
      ],
      "metadata": {
        "id": "fKhz-86DDUMP"
      },
      "execution_count": 4,
      "outputs": []
    },
    {
      "cell_type": "code",
      "source": [
        "#creating df's from dictionaries:\n",
        "\n",
        "df1 = pd.DataFrame(d1)\n",
        "df2 = pd.DataFrame(d2)\n",
        "df3 = pd.DataFrame(d3)\n",
        "\n",
        "DF1 = pd.concat([df1, df2], axis=0)\n",
        "DF1 = pd.concat([DF1, df3], axis=0)\n",
        "\n",
        "DF1.reset_index(inplace = True)\n",
        "del DF1['index'] # removing unnecessary column"
      ],
      "metadata": {
        "id": "wdIahObADUUl"
      },
      "execution_count": 5,
      "outputs": []
    },
    {
      "cell_type": "code",
      "source": [
        "#making API calls\n",
        "\n",
        "key = '7LLF76SWKUB2XO17'\n",
        "stock_dict = {} # emptly dict to append data from the table\n",
        "\n",
        "for t in DF1[\"Symbol\"]:\n",
        "  url = f'https://www.alphavantage.co/query?function=INCOME_STATEMENT&symbol={t}&apikey={key}'\n",
        "  r = requests.get(url)\n",
        "  data = r.json()\n",
        "  if r.status_code==200:\n",
        "    stock_dict[t] = data['annualReports'][0]\n",
        "    time.sleep(0.8) # 75 requests per minute allowed \n",
        "  else:\n",
        "    print(\"Failed API request\")"
      ],
      "metadata": {
        "id": "pgzbp8wwT-pw"
      },
      "execution_count": 6,
      "outputs": []
    },
    {
      "cell_type": "code",
      "source": [
        "#creating a dataframe to hold API data and editing it keeping only the necessary columns\n",
        "DF2 = pd.DataFrame(stock_dict)\n",
        "DF2 = DF2.T\n",
        "DF2 = DF2.drop(columns=['reportedCurrency', 'fiscalDateEnding', 'totalRevenue', 'costOfRevenue', 'costofGoodsAndServicesSold', 'operatingIncome', 'sellingGeneralAndAdministrative', 'researchAndDevelopment', 'investmentIncomeNet', 'netInterestIncome', 'interestIncome', 'interestExpense', 'nonInterestIncome', 'otherNonOperatingIncome', 'depreciation', 'depreciationAndAmortization', 'incomeBeforeTax', 'incomeTaxExpense', 'interestAndDebtExpense', 'netIncomeFromContinuingOperations', 'comprehensiveIncomeNetOfTax', 'ebit', 'ebitda'])\n",
        "DF2.index.rename('Symbol', inplace=True)\n",
        "DF2 = DF2.rename(columns={'grossProfit': 'Gross Profit', 'operatingExpenses': 'Operating Expenses', 'netIncome': 'Net Income'})\n"
      ],
      "metadata": {
        "id": "6XZBel3snj-g"
      },
      "execution_count": 7,
      "outputs": []
    },
    {
      "cell_type": "code",
      "source": [
        "# Merging the two dataframes into a third dataframe that will contain information from both DF1 and DF2.\n",
        "\n",
        "DF3 = pd.merge(DF1, DF2, on='Symbol', how='inner') #combining two dataframes\n",
        "\n",
        "DF3.to_csv('project2data.csv') # saving data in csv format\n",
        "\n",
        "DF3 = pd.read_csv('project2data.csv', index_col=0)\n",
        "#pd.set_option('max_columns', None)\n",
        "pd.options.display.max_columns =None\n",
        "print(DF3.head(10)) #displaying the first 10 rows of combined df\n",
        "print()\n",
        "print()\n",
        "DF3.describe().apply(lambda s: s.apply('{0:.2f}'.format)) #displaying desctiptive statistics\n"
      ],
      "metadata": {
        "colab": {
          "base_uri": "https://localhost:8080/",
          "height": 722
        },
        "id": "3g-Phw8pT-uL",
        "outputId": "98ef59e7-9047-4ba1-8742-3430972dbd53"
      },
      "execution_count": 8,
      "outputs": [
        {
          "output_type": "stream",
          "name": "stdout",
          "text": [
            "  Symbol                                             Name  Price  \\\n",
            "0   SRCE                                  1st Source Corp  47.99   \n",
            "1   ETNB                        89bio Inc Ordinary Shares  12.40   \n",
            "2    AIR                                         AAR Corp  37.15   \n",
            "3   ABEO                          Abeona Therapeutics Inc   0.33   \n",
            "4    ABM                               ABM Industries Inc  40.41   \n",
            "5   ACTG                             Acacia Research Corp   4.96   \n",
            "6    ASO  Academy Sports and Outdoors Inc Ordinary Shares  40.17   \n",
            "7   ACCO                                 ACCO Brands Corp   8.01   \n",
            "8   ACRX                       AcelRx Pharmaceuticals Inc   0.59   \n",
            "9   ACER                            Acer Therapeutics Inc   2.24   \n",
            "\n",
            "   Gross Profit  Operating Expenses  Net Income  \n",
            "0     107926000            15969000    81437000  \n",
            "1     -13386000            49355000   -49499000  \n",
            "2     275900000           222000000    35800000  \n",
            "3     -22109000            91420000   -84234000  \n",
            "4     830700000           754200000      300000  \n",
            "5       4958000            36625000   113444000  \n",
            "6    1734045000          1313647000   308764000  \n",
            "7     492400000           380000000    62000000  \n",
            "8     -40153000            40847000   -40379000  \n",
            "9     -11173706            22802825   -22885449  \n",
            "\n",
            "\n"
          ]
        },
        {
          "output_type": "execute_result",
          "data": {
            "text/html": [
              "\n",
              "  <div id=\"df-6fa327d2-0b0a-45ca-97a3-f5e0b9da0f65\">\n",
              "    <div class=\"colab-df-container\">\n",
              "      <div>\n",
              "<style scoped>\n",
              "    .dataframe tbody tr th:only-of-type {\n",
              "        vertical-align: middle;\n",
              "    }\n",
              "\n",
              "    .dataframe tbody tr th {\n",
              "        vertical-align: top;\n",
              "    }\n",
              "\n",
              "    .dataframe thead th {\n",
              "        text-align: right;\n",
              "    }\n",
              "</style>\n",
              "<table border=\"1\" class=\"dataframe\">\n",
              "  <thead>\n",
              "    <tr style=\"text-align: right;\">\n",
              "      <th></th>\n",
              "      <th>Price</th>\n",
              "      <th>Gross Profit</th>\n",
              "      <th>Operating Expenses</th>\n",
              "      <th>Net Income</th>\n",
              "    </tr>\n",
              "  </thead>\n",
              "  <tbody>\n",
              "    <tr>\n",
              "      <th>count</th>\n",
              "      <td>100.00</td>\n",
              "      <td>100.00</td>\n",
              "      <td>100.00</td>\n",
              "      <td>100.00</td>\n",
              "    </tr>\n",
              "    <tr>\n",
              "      <th>mean</th>\n",
              "      <td>143.50</td>\n",
              "      <td>71675725470.08</td>\n",
              "      <td>37349790221.74</td>\n",
              "      <td>31700545259.40</td>\n",
              "    </tr>\n",
              "    <tr>\n",
              "      <th>std</th>\n",
              "      <td>194.52</td>\n",
              "      <td>487609450975.82</td>\n",
              "      <td>263880527373.31</td>\n",
              "      <td>229811499597.24</td>\n",
              "    </tr>\n",
              "    <tr>\n",
              "      <th>min</th>\n",
              "      <td>0.33</td>\n",
              "      <td>-10182000000.00</td>\n",
              "      <td>-26548000.00</td>\n",
              "      <td>-22440000000.00</td>\n",
              "    </tr>\n",
              "    <tr>\n",
              "      <th>25%</th>\n",
              "      <td>9.89</td>\n",
              "      <td>6050664.00</td>\n",
              "      <td>76602025.00</td>\n",
              "      <td>-25375336.75</td>\n",
              "    </tr>\n",
              "    <tr>\n",
              "      <th>50%</th>\n",
              "      <td>59.94</td>\n",
              "      <td>1490738000.00</td>\n",
              "      <td>2064412000.00</td>\n",
              "      <td>146351500.00</td>\n",
              "    </tr>\n",
              "    <tr>\n",
              "      <th>75%</th>\n",
              "      <td>183.71</td>\n",
              "      <td>18103500000.00</td>\n",
              "      <td>11363250000.00</td>\n",
              "      <td>5848250000.00</td>\n",
              "    </tr>\n",
              "    <tr>\n",
              "      <th>max</th>\n",
              "      <td>910.87</td>\n",
              "      <td>4832373000000.00</td>\n",
              "      <td>2634625000000.00</td>\n",
              "      <td>2245261000000.00</td>\n",
              "    </tr>\n",
              "  </tbody>\n",
              "</table>\n",
              "</div>\n",
              "      <button class=\"colab-df-convert\" onclick=\"convertToInteractive('df-6fa327d2-0b0a-45ca-97a3-f5e0b9da0f65')\"\n",
              "              title=\"Convert this dataframe to an interactive table.\"\n",
              "              style=\"display:none;\">\n",
              "        \n",
              "  <svg xmlns=\"http://www.w3.org/2000/svg\" height=\"24px\"viewBox=\"0 0 24 24\"\n",
              "       width=\"24px\">\n",
              "    <path d=\"M0 0h24v24H0V0z\" fill=\"none\"/>\n",
              "    <path d=\"M18.56 5.44l.94 2.06.94-2.06 2.06-.94-2.06-.94-.94-2.06-.94 2.06-2.06.94zm-11 1L8.5 8.5l.94-2.06 2.06-.94-2.06-.94L8.5 2.5l-.94 2.06-2.06.94zm10 10l.94 2.06.94-2.06 2.06-.94-2.06-.94-.94-2.06-.94 2.06-2.06.94z\"/><path d=\"M17.41 7.96l-1.37-1.37c-.4-.4-.92-.59-1.43-.59-.52 0-1.04.2-1.43.59L10.3 9.45l-7.72 7.72c-.78.78-.78 2.05 0 2.83L4 21.41c.39.39.9.59 1.41.59.51 0 1.02-.2 1.41-.59l7.78-7.78 2.81-2.81c.8-.78.8-2.07 0-2.86zM5.41 20L4 18.59l7.72-7.72 1.47 1.35L5.41 20z\"/>\n",
              "  </svg>\n",
              "      </button>\n",
              "      \n",
              "  <style>\n",
              "    .colab-df-container {\n",
              "      display:flex;\n",
              "      flex-wrap:wrap;\n",
              "      gap: 12px;\n",
              "    }\n",
              "\n",
              "    .colab-df-convert {\n",
              "      background-color: #E8F0FE;\n",
              "      border: none;\n",
              "      border-radius: 50%;\n",
              "      cursor: pointer;\n",
              "      display: none;\n",
              "      fill: #1967D2;\n",
              "      height: 32px;\n",
              "      padding: 0 0 0 0;\n",
              "      width: 32px;\n",
              "    }\n",
              "\n",
              "    .colab-df-convert:hover {\n",
              "      background-color: #E2EBFA;\n",
              "      box-shadow: 0px 1px 2px rgba(60, 64, 67, 0.3), 0px 1px 3px 1px rgba(60, 64, 67, 0.15);\n",
              "      fill: #174EA6;\n",
              "    }\n",
              "\n",
              "    [theme=dark] .colab-df-convert {\n",
              "      background-color: #3B4455;\n",
              "      fill: #D2E3FC;\n",
              "    }\n",
              "\n",
              "    [theme=dark] .colab-df-convert:hover {\n",
              "      background-color: #434B5C;\n",
              "      box-shadow: 0px 1px 3px 1px rgba(0, 0, 0, 0.15);\n",
              "      filter: drop-shadow(0px 1px 2px rgba(0, 0, 0, 0.3));\n",
              "      fill: #FFFFFF;\n",
              "    }\n",
              "  </style>\n",
              "\n",
              "      <script>\n",
              "        const buttonEl =\n",
              "          document.querySelector('#df-6fa327d2-0b0a-45ca-97a3-f5e0b9da0f65 button.colab-df-convert');\n",
              "        buttonEl.style.display =\n",
              "          google.colab.kernel.accessAllowed ? 'block' : 'none';\n",
              "\n",
              "        async function convertToInteractive(key) {\n",
              "          const element = document.querySelector('#df-6fa327d2-0b0a-45ca-97a3-f5e0b9da0f65');\n",
              "          const dataTable =\n",
              "            await google.colab.kernel.invokeFunction('convertToInteractive',\n",
              "                                                     [key], {});\n",
              "          if (!dataTable) return;\n",
              "\n",
              "          const docLinkHtml = 'Like what you see? Visit the ' +\n",
              "            '<a target=\"_blank\" href=https://colab.research.google.com/notebooks/data_table.ipynb>data table notebook</a>'\n",
              "            + ' to learn more about interactive tables.';\n",
              "          element.innerHTML = '';\n",
              "          dataTable['output_type'] = 'display_data';\n",
              "          await google.colab.output.renderOutput(dataTable, element);\n",
              "          const docLink = document.createElement('div');\n",
              "          docLink.innerHTML = docLinkHtml;\n",
              "          element.appendChild(docLink);\n",
              "        }\n",
              "      </script>\n",
              "    </div>\n",
              "  </div>\n",
              "  "
            ],
            "text/plain": [
              "        Price      Gross Profit Operating Expenses        Net Income\n",
              "count  100.00            100.00             100.00            100.00\n",
              "mean   143.50    71675725470.08     37349790221.74    31700545259.40\n",
              "std    194.52   487609450975.82    263880527373.31   229811499597.24\n",
              "min      0.33   -10182000000.00       -26548000.00   -22440000000.00\n",
              "25%      9.89        6050664.00        76602025.00      -25375336.75\n",
              "50%     59.94     1490738000.00      2064412000.00      146351500.00\n",
              "75%    183.71    18103500000.00     11363250000.00     5848250000.00\n",
              "max    910.87  4832373000000.00   2634625000000.00  2245261000000.00"
            ]
          },
          "metadata": {},
          "execution_count": 8
        }
      ]
    },
    {
      "cell_type": "code",
      "source": [
        "#creating Data Visualisation graphs:\n",
        "\n",
        "#Graph 1 for small cap stocks\n",
        "small_name = d1['Symbol'][0:10]\n",
        "small_price = d1['Price'][0:10]\n",
        "\n",
        "#converting items into a list of floats for correct display in graphs:\n",
        "small_price_n = []\n",
        "for item in small_price:\n",
        "    small_price_n.append(float(item))\n",
        "\n",
        "small_ni = DF3['Net Income'][0:10].to_list()\n",
        "\n",
        "plt.bar(small_name, small_ni)\n",
        "\n",
        "plt.title(\"Small Cap Companies and Net Income\")\n",
        "plt.xlabel(\"Stock Name\")\n",
        "plt.ylabel('Net Income')\n",
        "plt.ticklabel_format(style='plain', axis='y') #removing scientific notation from the graph\n",
        "plt.show()\n",
        "print()\n",
        "\n",
        "\n",
        "#Graph 2 for large cap stocks\n",
        "large_name = d3['Symbol'][15:25]\n",
        "large_price = d3['Price'][15:25]\n",
        "large_ni = DF3['Net Income'][90:100].to_list()\n",
        "\n",
        "#converting items into a list of floats for correct display in graphs:\n",
        "large_price_n = []\n",
        "for item in large_price:\n",
        "    large_price_n.append(float(item))\n",
        "\n",
        "\n",
        "plt.bar(large_name, large_ni)\n",
        "\n",
        "plt.title(\"Large Cap Companies and Net Income\")\n",
        "plt.xlabel(\"Stock Name\")\n",
        "plt.ylabel('Net Income')\n",
        "plt.ticklabel_format(style='plain', axis='y') #removing scientific notation from the graph\n",
        "plt.show()"
      ],
      "metadata": {
        "colab": {
          "base_uri": "https://localhost:8080/",
          "height": 590
        },
        "id": "zswlx23tT-3H",
        "outputId": "a962a2fc-fb64-4c63-c9a0-ea21339ca0e4"
      },
      "execution_count": 9,
      "outputs": [
        {
          "output_type": "display_data",
          "data": {
            "image/png": "[encoded data removed]",
            "text/plain": [
              "<Figure size 432x288 with 1 Axes>"
            ]
          },
          "metadata": {
            "needs_background": "light"
          }
        },
        {
          "output_type": "stream",
          "name": "stdout",
          "text": [
            "\n"
          ]
        },
        {
          "output_type": "display_data",
          "data": {
            "image/png": "[encoded data removed]",
            "text/plain": [
              "<Figure size 432x288 with 1 Axes>"
            ]
          },
          "metadata": {
            "needs_background": "light"
          }
        }
      ]
    },
    {
      "cell_type": "code",
      "source": [
        "#Graph 2 for large cap stocks\n",
        "\n",
        "plt.bar(large_name, large_price_n)\n",
        "\n",
        "plt.title(\"Large Cap Stock Prices\")\n",
        "plt.xlabel(\"Stock Name\")\n",
        "plt.ylabel('Price')\n",
        "plt.show()\n",
        "print()\n",
        "\n",
        "#Graph 2 for small cap stocks\n",
        "plt.bar(small_name, small_price_n)\n",
        "\n",
        "plt.title(\"Small Cap Stock Prices\")\n",
        "plt.xlabel(\"Stock Name\")\n",
        "plt.ylabel('Price')\n",
        "ax = plt.gca()\n",
        "ax.set_ylim([0, 650])\n",
        "plt.show()\n",
        "\n",
        "\n"
      ],
      "metadata": {
        "colab": {
          "base_uri": "https://localhost:8080/",
          "height": 590
        },
        "id": "v58B7yQmT-7e",
        "outputId": "5b8df9e7-db3f-4418-a74a-49ccced4858f"
      },
      "execution_count": 10,
      "outputs": [
        {
          "output_type": "display_data",
          "data": {
            "image/png": "[encoded data removed]",
            "text/plain": [
              "<Figure size 432x288 with 1 Axes>"
            ]
          },
          "metadata": {
            "needs_background": "light"
          }
        },
        {
          "output_type": "stream",
          "name": "stdout",
          "text": [
            "\n"
          ]
        },
        {
          "output_type": "display_data",
          "data": {
            "image/png": "[encoded data removed]",
            "text/plain": [
              "<Figure size 432x288 with 1 Axes>"
            ]
          },
          "metadata": {
            "needs_background": "light"
          }
        }
      ]
    }
  ],
  "metadata": {
    "colab": {
      "name": "Project 2 draft.ipynb",
      "provenance": [],
      "collapsed_sections": []
    },
    "kernelspec": {
      "display_name": "Python 3",
      "name": "python3"
    },
    "language_info": {
      "name": "python"
    }
  },
  "nbformat": 4,
  "nbformat_minor": 0
}